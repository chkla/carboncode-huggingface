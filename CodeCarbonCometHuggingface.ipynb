{
  "nbformat": 4,
  "nbformat_minor": 0,
  "metadata": {
    "colab": {
      "name": "CodeCarbonCometHuggingface.ipynb",
      "provenance": [],
      "authorship_tag": "ABX9TyPDITtAEcO1hWrfwdkGHfnJ",
      "include_colab_link": true
    },
    "kernelspec": {
      "name": "python3",
      "display_name": "Python 3"
    },
    "accelerator": "GPU"
  },
  "cells": [
    {
      "cell_type": "markdown",
      "metadata": {
        "id": "view-in-github",
        "colab_type": "text"
      },
      "source": [
        "<a href=\"https://colab.research.google.com/github/chkla/codecarbon-huggingface/blob/main/CodeCarbonCometHuggingface.ipynb\" target=\"_parent\"><img src=\"https://colab.research.google.com/assets/colab-badge.svg\" alt=\"Open In Colab\"/></a>"
      ]
    },
    {
      "cell_type": "markdown",
      "metadata": {
        "id": "vG8M6QU_fAi8"
      },
      "source": [
        "# Testing CodeCarbon 💨 with Huggingface 🤗\n",
        "\n",
        "In this notebook, I played around with the new [CodeCarbon](https://codecarbon.io/) 💨 package integrated into [Comet](https://www.comet.ml/) ☄️ using [Huggingface](https://huggingface.co/) 🤗 to show a fine-tuned language model's carbon footprint.\n",
        "\n",
        "In 2019 the paper [\"Energy and Policy Considerations for Deep Learning in NLP\"](https://arxiv.org/pdf/1906.02243.pdf) popped up, discussing machine learning models' carbon footprint. Giving this as a portion of food for thought, the community starts thinking about the long-term effects and consequences.\n",
        "\n",
        "The [CodeCarbon](https://codecarbon.io/) 💨 project is a software package to track the carbon footprint. This package is already integrated into [Comet](https://www.comet.ml/) ☄️ , a tool to analyze and track your models (similar to [wandb](https://wandb.ai/)).\n",
        "\n",
        "To exemplify the use of CodeCarbon 💨, I used a part of code from [this](https://colab.research.google.com/github/huggingface/notebooks/blob/master/examples/text_classification.ipynb#scrollTo=uNx5pyRlIrJh)and  HuggingFace' notebook to define a simple task for fine-tuning a language model (if you want, you can try out any other task).\n",
        "\n",
        "_Note: The current integration in HuggingFace seems to be a bit buggy in logging the experiments in the right format to get a carbon score._"
      ]
    },
    {
      "cell_type": "code",
      "metadata": {
        "id": "gggkDv3w0s2s"
      },
      "source": [
        "%pip install comet_ml>=3.2.2\n",
        "%pip install transformers==4.2.0\n",
        "%pip install datasets\n",
        "%pip install codecarbon"
      ],
      "execution_count": null,
      "outputs": []
    },
    {
      "cell_type": "code",
      "metadata": {
        "id": "cvVEpO623w9Z"
      },
      "source": [
        "from comet_ml import Experiment"
      ],
      "execution_count": 1,
      "outputs": []
    },
    {
      "cell_type": "code",
      "metadata": {
        "id": "z7Tb2WTn7V6N"
      },
      "source": [
        "import comet_ml\n",
        "\n",
        "experiment = comet_ml.Experiment(\"api-key\")\n",
        "COMET_MODE = \"online\"\n",
        "comet_ml.config.save(api_key=\"api-key\") # without using this it the key is missing during the training"
      ],
      "execution_count": 2,
      "outputs": []
    },
    {
      "cell_type": "code",
      "metadata": {
        "id": "fUFPorel0yNf"
      },
      "source": [
        "from datasets import load_dataset, load_metric\n",
        "import datasets\n",
        "from transformers import AutoTokenizer, AutoModelForSequenceClassification, TrainingArguments, Trainer"
      ],
      "execution_count": 3,
      "outputs": []
    },
    {
      "cell_type": "code",
      "metadata": {
        "colab": {
          "base_uri": "https://localhost:8080/"
        },
        "id": "tJYhT1b8010Q",
        "outputId": "f6fb9357-a2da-4278-cb78-1dff0cdf9f8d"
      },
      "source": [
        "model_checkpoint = \"distilbert-base-uncased\"\n",
        "batch_size = 16\n",
        "dataset = load_dataset(\"glue\", \"mnli\")\n",
        "metric = load_metric('glue', \"mnli\")"
      ],
      "execution_count": 4,
      "outputs": [
        {
          "output_type": "stream",
          "text": [
            "Reusing dataset glue (/root/.cache/huggingface/datasets/glue/mnli/1.0.0/7c99657241149a24692c402a5c3f34d4c9f1df5ac2e4c3759fadea38f6cb29c4)\n"
          ],
          "name": "stderr"
        }
      ]
    },
    {
      "cell_type": "code",
      "metadata": {
        "id": "h-bGBJzX1u5j"
      },
      "source": [
        "tokenizer = AutoTokenizer.from_pretrained(model_checkpoint, use_fast=True)"
      ],
      "execution_count": 6,
      "outputs": []
    },
    {
      "cell_type": "code",
      "metadata": {
        "id": "ULfhJZOm2BJO"
      },
      "source": [
        "def preprocess_function(examples):\n",
        "    if \"hypothesis\" is None:\n",
        "        return tokenizer(examples[\"premise\"], truncation=True)\n",
        "    return tokenizer(examples[\"premise\"], examples[\"hypothesis\"], truncation=True)"
      ],
      "execution_count": 9,
      "outputs": []
    },
    {
      "cell_type": "code",
      "metadata": {
        "id": "WOYXL0ld2K8F"
      },
      "source": [
        "encoded_dataset = dataset.map(preprocess_function, batched=True)"
      ],
      "execution_count": null,
      "outputs": []
    },
    {
      "cell_type": "code",
      "metadata": {
        "id": "tdXPvT5U2Ob6"
      },
      "source": [
        "model = AutoModelForSequenceClassification.from_pretrained(model_checkpoint, num_labels=3)"
      ],
      "execution_count": null,
      "outputs": []
    },
    {
      "cell_type": "code",
      "metadata": {
        "id": "G6uxi5M32VXS"
      },
      "source": [
        "args = TrainingArguments(\n",
        "    \"test-glue\",\n",
        "    evaluation_strategy = \"epoch\",\n",
        "    learning_rate=2e-5,\n",
        "    per_device_train_batch_size=batch_size,\n",
        "    per_device_eval_batch_size=batch_size,\n",
        "    num_train_epochs=5,\n",
        "    weight_decay=0.01,\n",
        ")"
      ],
      "execution_count": 12,
      "outputs": []
    },
    {
      "cell_type": "code",
      "metadata": {
        "id": "B4LP6wiV2cdR"
      },
      "source": [
        "def compute_metrics(eval_pred):\n",
        "    predictions, labels = eval_pred\n",
        "    predictions = predictions[:, 0]\n",
        "    \n",
        "    return metric.compute(predictions=predictions, references=labels)"
      ],
      "execution_count": 13,
      "outputs": []
    },
    {
      "cell_type": "code",
      "metadata": {
        "id": "WkPYNQ-c2fQi"
      },
      "source": [
        "trainer = Trainer(\n",
        "    model,\n",
        "    args,\n",
        "    train_dataset=encoded_dataset[\"train\"],\n",
        "    eval_dataset=encoded_dataset[\"validation_matched\"],\n",
        "    tokenizer=tokenizer,\n",
        "    compute_metrics=compute_metrics\n",
        ")"
      ],
      "execution_count": 14,
      "outputs": []
    },
    {
      "cell_type": "code",
      "metadata": {
        "id": "V1l_x6JkCiQH"
      },
      "source": [
        "CUDA_LAUNCH_BLOCKING=1"
      ],
      "execution_count": 15,
      "outputs": []
    },
    {
      "cell_type": "code",
      "metadata": {
        "id": "bAg7zPP82nBM"
      },
      "source": [
        "trainer.train()"
      ],
      "execution_count": null,
      "outputs": []
    },
    {
      "cell_type": "code",
      "metadata": {
        "id": "sIRlMpHeZTr6"
      },
      "source": [
        "experiment = comet_ml.Experiment(\"api-key\")\n",
        "COMET_MODE = \"online\""
      ],
      "execution_count": null,
      "outputs": []
    }
  ]
}